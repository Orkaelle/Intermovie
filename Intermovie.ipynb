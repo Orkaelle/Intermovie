{
 "metadata": {
  "language_info": {
   "codemirror_mode": {
    "name": "ipython",
    "version": 3
   },
   "file_extension": ".py",
   "mimetype": "text/x-python",
   "name": "python",
   "nbconvert_exporter": "python",
   "pygments_lexer": "ipython3",
   "version": "3.8.5-final"
  },
  "orig_nbformat": 2,
  "kernelspec": {
   "name": "python_defaultSpec_1600698912441",
   "display_name": "Python 3.8.5 64-bit ('Intermovie': conda)"
  }
 },
 "nbformat": 4,
 "nbformat_minor": 2,
 "cells": [
  {
   "source": [
    "# **Intermovie**\n",
    "## *Groupe 3 - Farida & Orkaëlle*\n",
    "La société Intermovie développe une offre concurrente à Netflix/Amazon Vidéo.   \n",
    "Elle voudrait pouvoir permettre à ses utilisateurs de recevoir des recommandations de nouveaux films à regarder, ainsi que d'obtenir diverses informations sur les films qui font actuellement partis de son catalogue."
   ],
   "cell_type": "markdown",
   "metadata": {}
  },
  {
   "cell_type": "code",
   "execution_count": 1,
   "metadata": {},
   "outputs": [],
   "source": [
    "# Auto-reload\n",
    "%load_ext autoreload\n",
    "%autoreload 2"
   ]
  },
  {
   "cell_type": "code",
   "execution_count": 2,
   "metadata": {},
   "outputs": [],
   "source": [
    "# imports\n",
    "import pandas as pd"
   ]
  },
  {
   "cell_type": "code",
   "execution_count": 3,
   "metadata": {},
   "outputs": [],
   "source": [
    "# Création des datasets originaux\n",
    "name_basics = pd.read_csv('./movies_dataset/name.basics.tsv', sep = '\\t', usecols=['nconst','primaryName'])\n",
    "title_principals = pd.read_csv('./movies_dataset/title.principals.tsv', sep = '\\t', usecols=['tconst','nconst','category'])\n",
    "title_basics = pd.read_csv('./movies_dataset/title.basics.tsv', sep = '\\t', usecols=['tconst','primaryTitle','originalTitle','genres'])\n",
    "title_akas = pd.read_csv('./movies_dataset/title.akas.tsv', sep = '\\t', usecols=['titleId','title','region','isOriginalTitle'])\n",
    "title_ratings = pd.read_csv('./movies_dataset/title.ratings.tsv', sep = '\\t', usecols=['tconst','averageRating'], dtype = {'averageRating':'float16'})"
   ]
  },
  {
   "cell_type": "code",
   "execution_count": 4,
   "metadata": {},
   "outputs": [],
   "source": [
    "title_akas.rename(columns={'titleId':'tconst'}, inplace = True)"
   ]
  },
  {
   "cell_type": "code",
   "execution_count": 5,
   "metadata": {},
   "outputs": [],
   "source": [
    "# Actors by film\n",
    "df1 = title_principals.loc[title_principals['category'] == 'actor',:]\n",
    "df2 = title_basics.loc[:,['tconst','originalTitle']]\n",
    "\n",
    "df_actor_by_film= pd.merge(pd.merge(df1, df2, how='left', on='tconst'), name_basics, how='left', on='nconst').drop(['category','tconst','nconst'], axis=1)\n",
    "df_actor_by_film.to_csv('01_actor_by_film')"
   ]
  },
  {
   "cell_type": "code",
   "execution_count": 14,
   "metadata": {},
   "outputs": [],
   "source": [
    "# Rating US films\n",
    "us = title_akas.loc[(title_akas['region'] == 'US'), ['tconst','region']]\n",
    "us.drop_duplicates(keep='first', inplace=True)\n",
    "films = title_basics.loc[:,['tconst','originalTitle']].set_index('tconst')\n",
    "\n",
    "df_usfilm_ratings = pd.merge(pd.merge(us, films, how='left', on='tconst'), title_ratings, how='left', on='tconst').set_index('tconst')\n",
    "df_usfilm_ratings.to_csv('02_usfilm_ratings')"
   ]
  }
 ]
}