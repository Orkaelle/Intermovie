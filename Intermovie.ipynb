{
 "metadata": {
  "language_info": {
   "codemirror_mode": {
    "name": "ipython",
    "version": 3
   },
   "file_extension": ".py",
   "mimetype": "text/x-python",
   "name": "python",
   "nbconvert_exporter": "python",
   "pygments_lexer": "ipython3",
   "version": "3.8.5-final"
  },
  "orig_nbformat": 2,
  "kernelspec": {
   "name": "python_defaultSpec_1600868210514",
   "display_name": "Python 3.8.5 64-bit ('Intermovie': conda)"
  }
 },
 "nbformat": 4,
 "nbformat_minor": 2,
 "cells": [
  {
   "source": [
    "# **Intermovie**\n",
    "## *Groupe 3 - Farida & Orkaëlle*\n",
    "La société Intermovie développe une offre concurrente à Netflix/Amazon Vidéo.   \n",
    "Elle voudrait pouvoir permettre à ses utilisateurs de recevoir des recommandations de nouveaux films à regarder, ainsi que d'obtenir diverses informations sur les films qui font actuellement partis de son catalogue."
   ],
   "cell_type": "markdown",
   "metadata": {}
  },
  {
   "source": [
    "### Initialisation du projet :"
   ],
   "cell_type": "markdown",
   "metadata": {}
  },
  {
   "cell_type": "code",
   "execution_count": 1,
   "metadata": {
    "tags": []
   },
   "outputs": [],
   "source": [
    "# Auto-reload\n",
    "%load_ext autoreload\n",
    "%autoreload 2"
   ]
  },
  {
   "cell_type": "code",
   "execution_count": 2,
   "metadata": {},
   "outputs": [],
   "source": [
    "# imports\n",
    "import fct_intermovie as fct"
   ]
  },
  {
   "cell_type": "code",
   "execution_count": 3,
   "metadata": {
    "tags": []
   },
   "outputs": [
    {
     "output_type": "stream",
     "name": "stdout",
     "text": "Downloading...\nExtracting...\nDataset downloaded and extracted successfully.\n\n"
    }
   ],
   "source": [
    "# Téléchargement du jeu de données\n",
    "fct.dl_datasets()"
   ]
  },
  {
   "cell_type": "code",
   "execution_count": 4,
   "metadata": {
    "tags": []
   },
   "outputs": [
    {
     "output_type": "stream",
     "name": "stdout",
     "text": "Converting tsv files...\nDataset imported successfully from tsv.\n\n"
    }
   ],
   "source": [
    "# Création des datasets originaux\n",
    "actors, principals, basics, akas, ratings = fct.tsv_to_dataset()"
   ]
  },
  {
   "cell_type": "code",
   "execution_count": 5,
   "metadata": {},
   "outputs": [],
   "source": [
    "# Création du dossier cible des résultats\n",
    "fct.check_folder()"
   ]
  },
  {
   "source": [
    "### Requêtes :"
   ],
   "cell_type": "markdown",
   "metadata": {}
  },
  {
   "cell_type": "code",
   "execution_count": 6,
   "metadata": {
    "tags": []
   },
   "outputs": [
    {
     "output_type": "stream",
     "name": "stdout",
     "text": "Work in progress...\nCSV file \"01_actor_by_film\" saved in the results folder.\n\n"
    }
   ],
   "source": [
    "# Requête 1 : liste des acteurs par film\n",
    "df_rq1 = fct.req1(principals, basics, actors)"
   ]
  },
  {
   "cell_type": "code",
   "execution_count": 7,
   "metadata": {
    "tags": []
   },
   "outputs": [
    {
     "output_type": "stream",
     "name": "stdout",
     "text": "Work in progress...\nCSV file \"02_usfilm_ratings\" saved in the results folder.\n\n"
    }
   ],
   "source": [
    "# Requête 2 : liste des films Américains (en gardant leur nom en français) et leur note moyenne\n",
    "df_rq2 = fct.req2(akas, basics, ratings)"
   ]
  },
  {
   "cell_type": "code",
   "execution_count": 8,
   "metadata": {
    "tags": []
   },
   "outputs": [
    {
     "output_type": "stream",
     "name": "stdout",
     "text": "Work in progress...\nCSV file \"03_ratings_by_genre\" saved in the results folder.\n\n"
    }
   ],
   "source": [
    "# Requête 3 : notes moyennes des différents genres\n",
    "df_rq3 = fct.req3(basics, ratings)"
   ]
  },
  {
   "cell_type": "code",
   "execution_count": 9,
   "metadata": {
    "tags": []
   },
   "outputs": [
    {
     "output_type": "stream",
     "name": "stdout",
     "text": "Work in progress...\nCSV file \"04_ratings_by_actor\" saved in the results folder.\n\n"
    }
   ],
   "source": [
    "# Requête 4 : note moyenne de chaque acteur par rapport aux films dans lesquels il apparaît\n",
    "df_rq4 = fct.req4(principals, actors, ratings)"
   ]
  },
  {
   "source": [
    "### Bonus :"
   ],
   "cell_type": "markdown",
   "metadata": {}
  }
 ]
}