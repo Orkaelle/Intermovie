{
 "metadata": {
  "language_info": {
   "codemirror_mode": {
    "name": "ipython",
    "version": 3
   },
   "file_extension": ".py",
   "mimetype": "text/x-python",
   "name": "python",
   "nbconvert_exporter": "python",
   "pygments_lexer": "ipython3",
   "version": "3.8.5-final"
  },
  "orig_nbformat": 2,
  "kernelspec": {
   "name": "python_defaultSpec_1600783837209",
   "display_name": "Python 3.8.5 64-bit ('Intermovie': conda)"
  }
 },
 "nbformat": 4,
 "nbformat_minor": 2,
 "cells": [
  {
   "source": [
    "# **Intermovie**\n",
    "## *Groupe 3 - Farida & Orkaëlle*\n",
    "La société Intermovie développe une offre concurrente à Netflix/Amazon Vidéo.   \n",
    "Elle voudrait pouvoir permettre à ses utilisateurs de recevoir des recommandations de nouveaux films à regarder, ainsi que d'obtenir diverses informations sur les films qui font actuellement partis de son catalogue."
   ],
   "cell_type": "markdown",
   "metadata": {}
  },
  {
   "cell_type": "code",
   "execution_count": null,
   "metadata": {},
   "outputs": [],
   "source": [
    "# Auto-reload\n",
    "%load_ext autoreload\n",
    "%autoreload 2"
   ]
  },
  {
   "cell_type": "code",
   "execution_count": null,
   "metadata": {},
   "outputs": [],
   "source": [
    "# imports\n",
    "import fct_intermovie as fct"
   ]
  },
  {
   "cell_type": "code",
   "execution_count": null,
   "metadata": {
    "tags": []
   },
   "outputs": [],
   "source": [
    "# Création des datasets originaux\n",
    "actors, principals, basics, akas, ratings = fct.tsv_to_dataset()"
   ]
  },
  {
   "cell_type": "code",
   "execution_count": null,
   "metadata": {},
   "outputs": [],
   "source": [
    "# Requête 1 : liste des acteurs par film\n",
    "df_rq1 = fct.req1(principals, basics, actors)"
   ]
  },
  {
   "cell_type": "code",
   "execution_count": null,
   "metadata": {},
   "outputs": [],
   "source": [
    "# Requête 2 : liste des films Américains (en gardant leur nom en français) et leur note moyenne\n",
    "df_rq2 = fct.req2(akas, basics, ratings)"
   ]
  },
  {
   "cell_type": "code",
   "execution_count": null,
   "metadata": {
    "tags": []
   },
   "outputs": [],
   "source": [
    "# Requête 3 : notes moyennes des différents genres\n",
    "df_rq3 = fct.req3(basics, ratings)"
   ]
  }
 ]
}