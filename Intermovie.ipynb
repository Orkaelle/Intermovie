{
 "metadata": {
  "language_info": {
   "codemirror_mode": {
    "name": "ipython",
    "version": 3
   },
   "file_extension": ".py",
   "mimetype": "text/x-python",
   "name": "python",
   "nbconvert_exporter": "python",
   "pygments_lexer": "ipython3",
   "version": "3.8.5-final"
  },
  "orig_nbformat": 2,
  "kernelspec": {
   "name": "Python 3.8.5 64-bit ('Intermovie': conda)",
   "display_name": "Python 3.8.5 64-bit ('Intermovie': conda)",
   "metadata": {
    "interpreter": {
     "hash": "c633e62af49ea26c76a8326a34423ee463c3088fbd1d035620d766a4aee113b0"
    }
   }
  }
 },
 "nbformat": 4,
 "nbformat_minor": 2,
 "cells": [
  {
   "source": [
    "# **Intermovie**\n",
    "## *Groupe 3 - Farida & Orkaëlle*\n",
    "La société Intermovie développe une offre concurrente à Netflix/Amazon Vidéo.   \n",
    "Elle voudrait pouvoir permettre à ses utilisateurs de recevoir des recommandations de nouveaux films à regarder, ainsi que d'obtenir diverses informations sur les films qui font actuellement partis de son catalogue."
   ],
   "cell_type": "markdown",
   "metadata": {}
  },
  {
   "source": [
    "### Initialisation du projet :"
   ],
   "cell_type": "markdown",
   "metadata": {}
  },
  {
   "cell_type": "code",
   "execution_count": 1,
   "metadata": {
    "tags": []
   },
   "outputs": [
    {
     "output_type": "stream",
     "name": "stdout",
     "text": "2020-09-29 10:07:55.903830\n"
    }
   ],
   "source": [
    "import datetime\n",
    "start = datetime.datetime.now()\n",
    "print(start)"
   ]
  },
  {
   "cell_type": "code",
   "execution_count": 2,
   "metadata": {
    "tags": []
   },
   "outputs": [],
   "source": [
    "# Auto-reload\n",
    "%load_ext autoreload\n",
    "%autoreload 2"
   ]
  },
  {
   "cell_type": "code",
   "execution_count": 3,
   "metadata": {
    "tags": []
   },
   "outputs": [],
   "source": [
    "# imports\n",
    "import fct_intermovie as fct"
   ]
  },
  {
   "cell_type": "code",
   "execution_count": 4,
   "metadata": {
    "tags": []
   },
   "outputs": [
    {
     "output_type": "stream",
     "name": "stdout",
     "text": "Datas already douwnloaded.\nExtracting...\nDataset extracted successfully.\nDatas are successfully loaded.\n\nSpliting BASICS...\nDone.\nSpliting PRINCIPALS...\nDone.\nSpliting AKAS...\nDone.\n\nConverting tsv files...\nDatasets imported successfully from tsv to pandas dataframes.\n\n"
    }
   ],
   "source": [
    "# Création des dossiers nécessaires à l'execution du programme\n",
    "fct.check_folder()\n",
    "\n",
    "# Datas loading\n",
    "fct.ensure_data_loaded()\n",
    "\n",
    "# Split Datas\n",
    "fct.split_data('title.basics.tsv', 'BASICS', 'titleType')\n",
    "fct.split_data('title.principals.tsv', 'PRINCIPALS', 'category')\n",
    "fct.split_data('title.akas.tsv', 'AKAS', 'region')\n",
    "\n",
    "# Création des datasets originaux\n",
    "actors, principals, basics, akas, ratings = fct.create_df()"
   ]
  },
  {
   "source": [
    "### Requêtes :"
   ],
   "cell_type": "markdown",
   "metadata": {}
  },
  {
   "cell_type": "code",
   "execution_count": 5,
   "metadata": {
    "tags": []
   },
   "outputs": [
    {
     "output_type": "stream",
     "name": "stdout",
     "text": "Rq 1 - Work in progress...\nCSV file \"01_actor_by_film\" saved in the results folder.\n\n"
    }
   ],
   "source": [
    "# Requête 1 : liste des acteurs par film\n",
    "df_rq1 = fct.req1(principals, basics, actors)"
   ]
  },
  {
   "cell_type": "code",
   "execution_count": 6,
   "metadata": {
    "tags": []
   },
   "outputs": [
    {
     "output_type": "stream",
     "name": "stdout",
     "text": "Rq 2 - Work in progress...\nCSV file \"02_usfilm_ratings\" saved in the results folder.\n\n"
    }
   ],
   "source": [
    "# Requête 2 : liste des films Américains (en gardant leur nom en français) et leur note moyenne\n",
    "df_rq2 = fct.req2(akas, basics, ratings)"
   ]
  },
  {
   "cell_type": "code",
   "execution_count": 7,
   "metadata": {
    "tags": []
   },
   "outputs": [
    {
     "output_type": "stream",
     "name": "stdout",
     "text": "Rq 3 - Work in progress...\nCSV file \"03_ratings_by_genre\" saved in the results folder.\n\n"
    }
   ],
   "source": [
    "# Requête 3 : notes moyennes des différents genres\n",
    "df_rq3 = fct.req3(basics, ratings)"
   ]
  },
  {
   "cell_type": "code",
   "execution_count": 8,
   "metadata": {
    "tags": []
   },
   "outputs": [
    {
     "output_type": "stream",
     "name": "stdout",
     "text": "Rq 4 - Work in progress...\nCSV file \"04_ratings_by_actor\" saved in the results folder.\n\n"
    }
   ],
   "source": [
    "# Requête 4 : note moyenne de chaque acteur par rapport aux films dans lesquels il apparaît\n",
    "df_rq4 = fct.req4(principals, actors, ratings)"
   ]
  },
  {
   "cell_type": "code",
   "execution_count": 9,
   "metadata": {
    "tags": []
   },
   "outputs": [
    {
     "output_type": "stream",
     "name": "stdout",
     "text": "2020-09-29 10:18:56.759409\n0:11:00.855579\n"
    }
   ],
   "source": [
    "end = datetime.datetime.now()\n",
    "print(end)\n",
    "\n",
    "print (f\"Temps d'execution : {end - start})"
   ]
  }
 ]
}