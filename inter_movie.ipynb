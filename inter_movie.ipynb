{
 "metadata": {
  "language_info": {
   "codemirror_mode": {
    "name": "ipython",
    "version": 3
   },
   "file_extension": ".py",
   "mimetype": "text/x-python",
   "name": "python",
   "nbconvert_exporter": "python",
   "pygments_lexer": "ipython3",
   "version": "3.7.9-final"
  },
  "orig_nbformat": 2,
  "kernelspec": {
   "name": "Python 3.7.9 64-bit ('IntermovieLibrairy': conda)",
   "display_name": "Python 3.7.9 64-bit ('IntermovieLibrairy': conda)",
   "metadata": {
    "interpreter": {
     "hash": "264b17deecdbe4e35933365d23d17c8661c218f2fff0860c21cae7719e4aa77d"
    }
   }
  }
 },
 "nbformat": 4,
 "nbformat_minor": 2,
 "cells": [
  {
   "source": [
    "## Requête 1: liste des acteurs par film\n"
   ],
   "cell_type": "markdown",
   "metadata": {}
  },
  {
   "cell_type": "code",
   "execution_count": 2,
   "metadata": {},
   "outputs": [],
   "source": [
    "# import des librairies\n",
    "import os\n",
    "import pandas as pd \n",
    "import numpy as np"
   ]
  },
  {
   "source": [
    "\n",
    "# lire les fichiers .tsv vers un dataframe\n",
    "df_name_basics = pd.read_csv('../name.basics.tsv', sep=\"\\t\", nrows = 80000, usecols=[\"nconst\", \"primaryName\"])\n",
    "\n",
    "#df_name_basics = df_name_basics[[\"nconst\", \"primaryName\", \"knownForTitles\"]]\n",
    "#\n",
    "df_principals = pd.read_csv('../title.principals.tsv', sep=\"\\t\", nrows = 10000) \n",
    "#\n",
    "df_principals = df_principals.loc[(df_principals['category']==\"actor\")|(df_principals['category']==\"actress\"),:]\n",
    "df_principals = df_principals[[\"tconst\", \"nconst\"]]\n",
    "# inner join with merge\n",
    "df_merged_inner = pd.merge(left = df_principals, right= df_name_basics, left_on='nconst', right_on='nconst')\n",
    "#lire title.basics\n"
   ],
   "cell_type": "code",
   "metadata": {
    "tags": []
   },
   "execution_count": 32,
   "outputs": []
  },
  {
   "cell_type": "code",
   "execution_count": 12,
   "metadata": {
    "tags": []
   },
   "outputs": [],
   "source": [
    "# lire le fichier title.basics.tsv\n",
    "df_title_basics = pd.read_csv('../title.basics.tsv', sep=\"\\t\", nrows = 80000)\n",
    "# mettre un filtre sur titleType\n",
    "df_title_basics = df_title_basics.loc[(df_title_basics['titleType']==\"tvMovie\")|(df_title_basics['titleType']==\"movie\"),:]\n",
    "# select interesting columns\n",
    "df_title_filtred = df_title_basics[[\"tconst\", \"primaryTitle\"]] \n",
    "#faire un merge\n",
    "liste_actor = pd.merge(left=df_title_filtred, right = df_merged_inner, left_on = 'tconst', right_on = 'tconst', how = 'inner')\n",
    "liste_actor = liste_actor[[\"primaryTitle\",\"primaryName\"]]\n",
    "#\n",
    "#liste_actor.to_csv('liste_actor.csv', sep =\",\")\n",
    "#groupby\n",
    "liste_actors = liste_actor.groupby(['primaryTitle'])['primaryName'].apply(','.join).reset_index()\n",
    "liste_actors.to_csv('liste_actors.csv', sep =\",\")\n",
    "#print(liste_actors.head())"
   ]
  },
  {
   "source": [
    "## Requête 2: liste des films américains avec leurs titres en français et leur moyenne"
   ],
   "cell_type": "markdown",
   "metadata": {}
  },
  {
   "cell_type": "code",
   "execution_count": 20,
   "metadata": {
    "tags": []
   },
   "outputs": [],
   "source": [
    "# lire le fichier.tsv\n",
    "df_title_akas = pd.read_csv('../title.akas.tsv', sep=\"\\t\", nrows = 80000, usecols=[\"titleId\", \"title\", \"region\"])\n",
    "#\n",
    "df_title_akas_US = df_title_akas.loc[(df_title_akas['region']==\"US\"),:]\n",
    "#\n",
    "df_title_akas_US = df_title_akas_US.rename(columns={'region':'region_US'})\n",
    "#\n",
    "df_title_akas_FR = df_title_akas.loc[(df_title_akas['region']==\"FR\"),:]\n",
    "#\n",
    "df_title_akas_FR = df_title_akas_FR.rename(columns={'title': 'title_french','region':'region_FR'})\n",
    "#merge des deux fichiers df_title_akas_US et df_title_akas_FR\n",
    "df_title_filtred_akas = pd.merge(left= df_title_akas_US, right = df_title_akas_FR, left_on = 'titleId', right_on = 'titleId', how = 'left')\n",
    "# selection des colonnes intéressantes\n",
    "df_title_filtred_akas = df_title_filtred_akas[[\"titleId\", \"title_french\", \"title\"]]\n",
    "# nettoyage du dataframe df_title_filtred\n",
    "df_title_filtred_akas['title'] = np.where(df_title_filtred_akas['title_french'].notnull(), '', df_title_filtred_akas['title'])\n",
    "#\n",
    "df_title_filtred_akas = df_title_filtred_akas.rename(columns ={'titleId': 'tconst'})\n",
    "# faire un merge avec la liste des films filtrés (movie et intermvie)\n",
    "df_title_filtred = df_title_basics[[\"tconst\"]] \n",
    "#\n",
    "df_title_filtred_akas =pd.merge(left = df_title_filtred, right = df_title_filtred_akas, left_on = 'tconst', right_on = 'tconst', how = 'inner')\n",
    "\n"
   ]
  },
  {
   "cell_type": "code",
   "execution_count": 22,
   "metadata": {
    "tags": []
   },
   "outputs": [],
   "source": [
    "df_title_rating = pd.read_csv('../title.ratings.tsv', sep=\"\\t\", nrows = 100000, usecols=[\"tconst\", \"averageRating\"])\n",
    "# merge des deux fichiers df_title_rating et df_title_filtred_akas\n",
    "liste_film_americain = pd.merge(left = df_title_filtred_akas, right = df_title_rating, left_on = 'tconst', right_on = 'tconst', how = 'inner')\n"
   ]
  },
  {
   "source": [
    "## Requête 3: les notes moyennes des différents genres"
   ],
   "cell_type": "markdown",
   "metadata": {
    "tags": []
   }
  },
  {
   "cell_type": "code",
   "execution_count": 31,
   "metadata": {
    "tags": []
   },
   "outputs": [],
   "source": [
    "df_title_basics_2 = df_title_basics[[\"tconst\",\"genres\"]] \n",
    "#\n",
    "df_title_basics_2 = pd.DataFrame(df_title_basics_2.genres.str.split(',').tolist(), index=df_title_basics_2.tconst).stack()\n",
    "df_title_basics_2 =df_title_basics_2.reset_index([0, 'tconst'])\n",
    "df_title_basics_2.columns = ['tconst', 'genres']\n",
    "# récupération des notes par un merge\n",
    "note_genre = pd.merge(left = df_title_basics_2, right = df_title_rating, left_on = 'tconst', right_on = 'tconst', how = 'inner')\n",
    "\n"
   ]
  },
  {
   "source": [
    "## Requête 4: la note moyenne de chaque acteur par rapport aux films dans lesquels il apparait"
   ],
   "cell_type": "markdown",
   "metadata": {
    "tags": []
   }
  },
  {
   "cell_type": "code",
   "execution_count": 35,
   "metadata": {
    "tags": []
   },
   "outputs": [],
   "source": [
    "#merge des fichiers df_merged_inner et df_title_rating\n",
    "note_actor = pd.merge(left = df_merged_inner, right = df_title_rating, left_on = 'tconst', right_on = 'tconst', how = 'inner')\n",
    "note_actor = note_actor[[\"primaryName\", \"averageRating\"]]\n",
    "# \n",
    "moyenne_actor = note_actor.groupby('primaryName')['averageRating'].mean()"
   ]
  },
  {
   "cell_type": "code",
   "execution_count": 37,
   "metadata": {
    "tags": []
   },
   "outputs": [
    {
     "output_type": "stream",
     "name": "stdout",
     "text": "tconst  averageRating  numVotes\n0  tt0000001            5.6      1550\n1  tt0000002            6.1       186\n2  tt0000003            6.5      1207\n3  tt0000004            6.2       113\n4  tt0000005            6.1      1934\n"
    }
   ],
   "source": [
    "df4 = pd.read_csv('../title.ratings.tsv', sep=\"\\t\", nrows = 1000)\n",
    "print(df4.head())"
   ]
  },
  {
   "cell_type": "code",
   "execution_count": 13,
   "metadata": {
    "tags": []
   },
   "outputs": [
    {
     "output_type": "stream",
     "name": "stdout",
     "text": "      tconst titleType            primaryTitle           originalTitle  \\\n0  tt0000001     short              Carmencita              Carmencita   \n1  tt0000002     short  Le clown et ses chiens  Le clown et ses chiens   \n2  tt0000003     short          Pauvre Pierrot          Pauvre Pierrot   \n3  tt0000004     short             Un bon bock             Un bon bock   \n4  tt0000005     short        Blacksmith Scene        Blacksmith Scene   \n\n   isAdult  startYear endYear runtimeMinutes                    genres  \n0        0       1894      \\N              1         Documentary,Short  \n1        0       1892      \\N              5           Animation,Short  \n2        0       1892      \\N              4  Animation,Comedy,Romance  \n3        0       1892      \\N             \\N           Animation,Short  \n4        0       1893      \\N              1              Comedy,Short  \n"
    }
   ],
   "source": [
    "df1 = pd.read_csv('../title.basics.tsv', sep=\"\\t\", nrows = 500)\n",
    "print(df1.head())"
   ]
  },
  {
   "cell_type": "code",
   "execution_count": 24,
   "metadata": {},
   "outputs": [],
   "source": [
    "del(df_title_akas)"
   ]
  },
  {
   "cell_type": "code",
   "execution_count": null,
   "metadata": {},
   "outputs": [],
   "source": []
  }
 ]
}