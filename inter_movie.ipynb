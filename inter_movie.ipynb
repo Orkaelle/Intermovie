{
 "metadata": {
  "language_info": {
   "codemirror_mode": {
    "name": "ipython",
    "version": 3
   },
   "file_extension": ".py",
   "mimetype": "text/x-python",
   "name": "python",
   "nbconvert_exporter": "python",
   "pygments_lexer": "ipython3",
   "version": "3.7.9-final"
  },
  "orig_nbformat": 2,
  "kernelspec": {
   "name": "Python 3.7.9 64-bit ('IntermovieLibrairy': conda)",
   "display_name": "Python 3.7.9 64-bit ('IntermovieLibrairy': conda)",
   "metadata": {
    "interpreter": {
     "hash": "264b17deecdbe4e35933365d23d17c8661c218f2fff0860c21cae7719e4aa77d"
    }
   }
  }
 },
 "nbformat": 4,
 "nbformat_minor": 2,
 "cells": [
  {
   "source": [
    "Requête 1: liste des acteurs par film\n"
   ],
   "cell_type": "markdown",
   "metadata": {}
  },
  {
   "cell_type": "code",
   "execution_count": 4,
   "metadata": {},
   "outputs": [],
   "source": [
    "# import des librairies\n",
    "import os\n",
    "import pandas as pd \n",
    "import numpy as np"
   ]
  },
  {
   "source": [
    "\n",
    "# lire les fichiers .tsv vers un dataframe\n",
    "df_name_basics = pd.read_csv('../name.basics.tsv', sep=\"\\t\", nrows = 80000, usecols=[\"nconst\", \"primaryName\"])\n",
    "\n",
    "#df_name_basics = df_name_basics[[\"nconst\", \"primaryName\", \"knownForTitles\"]]\n",
    "#\n",
    "df_principals = pd.read_csv('../title.principals.tsv', sep=\"\\t\", nrows = 10000) \n",
    "#\n",
    "df_principals = df_principals.loc[(df_principals['category']==\"actor\")|(df_principals['category']==\"actress\"),:]\n",
    "df_principals = df_principals[[\"tconst\", \"nconst\"]]\n",
    "# inner join with merge\n",
    "df_merged_inner = pd.merge(left = df_principals, right= df_name_basics, left_on='nconst', right_on='nconst')\n",
    "#lire title.basics\n"
   ],
   "cell_type": "code",
   "metadata": {
    "tags": []
   },
   "execution_count": 12,
   "outputs": []
  },
  {
   "cell_type": "code",
   "execution_count": 43,
   "metadata": {
    "tags": []
   },
   "outputs": [],
   "source": [
    "# lire le fichier title.basics.tsv\n",
    "df_title_basics = pd.read_csv('../title.basics.tsv', sep=\"\\t\", nrows = 80000)\n",
    "# mettre un filtre sur titleType\n",
    "df_title_basics = df_title_basics.loc[(df_title_basics['titleType']==\"tvMovie\")|(df_title_basics['titleType']==\"movie\"),:]\n",
    "# select interesting columns\n",
    "df_title_filtred = df_title_basics[[\"tconst\", \"primaryTitle\"]] \n",
    "#faire un merge\n",
    "liste_actor = pd.merge(left=df_title_filtred, right = df_merged_inner, left_on = 'tconst', right_on = 'tconst', how = 'inner')\n",
    "liste_actor = liste_actor[[\"primaryTitle\",\"primaryName\"]]\n",
    "#\n",
    "#liste_actor.to_csv('liste_actor.csv', sep =\",\")\n",
    "#groupby\n",
    "liste_actors = liste_actor.groupby(['primaryTitle'])['primaryName'].apply(','.join).reset_index()\n",
    "liste_actors.to_csv('liste_actors.csv', sep =\",\")\n",
    "#print(liste_actors.head())"
   ]
  },
  {
   "cell_type": "code",
   "execution_count": 18,
   "metadata": {
    "tags": []
   },
   "outputs": [],
   "source": [
    "df_title_basics = pd.read_csv('../title.basics.tsv', sep=\"\\t\", nrows = 1000)\n",
    "#df_title_film = df_title_basics[[\"tconst\", \"primaryTitle\"]]\n",
    "#print(df_title_film.head())"
   ]
  },
  {
   "cell_type": "code",
   "execution_count": 16,
   "metadata": {
    "tags": []
   },
   "outputs": [
    {
     "output_type": "stream",
     "name": "stdout",
     "text": "tconst                                 primaryTitle       primaryName\n0  tt0000005                             Blacksmith Scene    Charles Kayser\n1  tt0000005                             Blacksmith Scene          John Ott\n2  tt0000007  Corbett and Courtney Before the Kinetograph  James J. Corbett\n3  tt0000007  Corbett and Courtney Before the Kinetograph    Peter Courtney\n4  tt0000008       Edison Kinetoscopic Record of a Sneeze          Fred Ott\n"
    }
   ],
   "source": [
    "df_merge_film = df_title_film.merge(df_merge_filt)\n",
    "print(df_merge_film.head())"
   ]
  },
  {
   "cell_type": "code",
   "execution_count": 10,
   "metadata": {
    "tags": []
   },
   "outputs": [
    {
     "output_type": "stream",
     "name": "stdout",
     "text": "titleId  ordering                      title region language  \\\n0  tt0000001         1  Carmencita - spanyol tánc     HU       \\N   \n1  tt0000001         2                 Καρμενσίτα     GR       \\N   \n2  tt0000001         3                 Карменсита     RU       \\N   \n3  tt0000001         4                 Carmencita     US       \\N   \n4  tt0000001         5                 Carmencita     \\N       \\N   \n\n         types attributes  isOriginalTitle  \n0  imdbDisplay         \\N                0  \n1           \\N         \\N                0  \n2           \\N         \\N                0  \n3           \\N         \\N                0  \n4     original         \\N                1  \n"
    }
   ],
   "source": [
    "df_title_akas = pd.read_csv('../title.akas.tsv', sep=\"\\t\", nrows =1000)\n",
    "print(df_title_akas.head())"
   ]
  },
  {
   "cell_type": "code",
   "execution_count": 12,
   "metadata": {
    "tags": []
   },
   "outputs": [
    {
     "output_type": "stream",
     "name": "stdout",
     "text": "title\n0  Carmencita - spanyol tánc\n1                 Καρμενσίτα\n2                 Карменсита\n3                 Carmencita\n4                 Carmencita\n"
    }
   ],
   "source": [
    "print(df1[[\"title\"]].head())"
   ]
  },
  {
   "cell_type": "code",
   "execution_count": 21,
   "metadata": {
    "tags": []
   },
   "outputs": [
    {
     "output_type": "stream",
     "name": "stdout",
     "text": "tconst titleType            primaryTitle           originalTitle  \\\n0  tt0000001     short              Carmencita              Carmencita   \n1  tt0000002     short  Le clown et ses chiens  Le clown et ses chiens   \n2  tt0000003     short          Pauvre Pierrot          Pauvre Pierrot   \n3  tt0000004     short             Un bon bock             Un bon bock   \n4  tt0000005     short        Blacksmith Scene        Blacksmith Scene   \n\n   isAdult  startYear endYear runtimeMinutes                    genres  \n0        0       1894      \\N              1         Documentary,Short  \n1        0       1892      \\N              5           Animation,Short  \n2        0       1892      \\N              4  Animation,Comedy,Romance  \n3        0       1892      \\N             \\N           Animation,Short  \n4        0       1893      \\N              1              Comedy,Short  \n"
    }
   ],
   "source": [
    "df2 = pd.read_csv('../title.basics.tsv', sep=\"\\t\", nrows = 1000)\n",
    "print(df2.head())"
   ]
  },
  {
   "cell_type": "code",
   "execution_count": 5,
   "metadata": {
    "tags": []
   },
   "outputs": [
    {
     "output_type": "stream",
     "name": "stdout",
     "text": "tconst  ordering     nconst         category                      job  \\\n0  tt0000001         1  nm1588970             self                       \\N   \n1  tt0000001         2  nm0005690         director                       \\N   \n2  tt0000001         3  nm0374658  cinematographer  director of photography   \n3  tt0000002         1  nm0721526         director                       \\N   \n4  tt0000002         2  nm1335271         composer                       \\N   \n\n    characters  \n0  [\"Herself\"]  \n1           \\N  \n2           \\N  \n3           \\N  \n4           \\N  \n"
    }
   ],
   "source": [
    "df3 = pd.read_csv('../title.principals.tsv', sep=\"\\t\", nrows =1000)\n",
    "print(df3.head())\n"
   ]
  },
  {
   "cell_type": "code",
   "execution_count": 33,
   "metadata": {
    "tags": []
   },
   "outputs": [],
   "source": [
    "df_actor = df3.loc[df3['category']==\"actor\",:]\n",
    "#print(df_actor.head())"
   ]
  },
  {
   "cell_type": "code",
   "execution_count": 37,
   "metadata": {
    "tags": []
   },
   "outputs": [
    {
     "output_type": "stream",
     "name": "stdout",
     "text": "tconst  averageRating  numVotes\n0  tt0000001            5.6      1550\n1  tt0000002            6.1       186\n2  tt0000003            6.5      1207\n3  tt0000004            6.2       113\n4  tt0000005            6.1      1934\n"
    }
   ],
   "source": [
    "df4 = pd.read_csv('../title.ratings.tsv', sep=\"\\t\", nrows = 1000)\n",
    "print(df4.head())"
   ]
  },
  {
   "cell_type": "code",
   "execution_count": 13,
   "metadata": {
    "tags": []
   },
   "outputs": [
    {
     "output_type": "stream",
     "name": "stdout",
     "text": "      tconst titleType            primaryTitle           originalTitle  \\\n0  tt0000001     short              Carmencita              Carmencita   \n1  tt0000002     short  Le clown et ses chiens  Le clown et ses chiens   \n2  tt0000003     short          Pauvre Pierrot          Pauvre Pierrot   \n3  tt0000004     short             Un bon bock             Un bon bock   \n4  tt0000005     short        Blacksmith Scene        Blacksmith Scene   \n\n   isAdult  startYear endYear runtimeMinutes                    genres  \n0        0       1894      \\N              1         Documentary,Short  \n1        0       1892      \\N              5           Animation,Short  \n2        0       1892      \\N              4  Animation,Comedy,Romance  \n3        0       1892      \\N             \\N           Animation,Short  \n4        0       1893      \\N              1              Comedy,Short  \n"
    }
   ],
   "source": [
    "df1 = pd.read_csv('../title.basics.tsv', sep=\"\\t\", nrows = 500)\n",
    "print(df1.head())"
   ]
  },
  {
   "cell_type": "code",
   "execution_count": 18,
   "metadata": {},
   "outputs": [],
   "source": [
    "del(df1)"
   ]
  },
  {
   "cell_type": "code",
   "execution_count": null,
   "metadata": {},
   "outputs": [],
   "source": []
  }
 ]
}